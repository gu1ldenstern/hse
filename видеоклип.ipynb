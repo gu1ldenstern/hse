{
 "cells": [
  {
   "cell_type": "code",
   "execution_count": 2,
   "metadata": {},
   "outputs": [
    {
     "name": "stdout",
     "output_type": "stream",
     "text": [
      "Collecting moviepy\n",
      "  Downloading https://files.pythonhosted.org/packages/de/f0/b8005c49fd3975a9660dfd648292bb043a5d811fe17339e8f7b79f3ec796/moviepy-1.0.1.tar.gz (373kB)\n",
      "Requirement already satisfied: decorator<5.0,>=4.0.2 in c:\\users\\user\\anaconda3\\lib\\site-packages (from moviepy) (4.4.0)\n",
      "Requirement already satisfied: tqdm<5.0,>=4.11.2 in c:\\users\\user\\anaconda3\\lib\\site-packages (from moviepy) (4.36.1)\n",
      "Requirement already satisfied: numpy in c:\\users\\user\\anaconda3\\lib\\site-packages (from moviepy) (1.16.5)\n",
      "Requirement already satisfied: requests<3.0,>=2.8.1 in c:\\users\\user\\anaconda3\\lib\\site-packages (from moviepy) (2.22.0)\n",
      "Collecting proglog<=1.0.0 (from moviepy)\n",
      "  Downloading https://files.pythonhosted.org/packages/fe/ab/4cb19b578e1364c0b2d6efd6521a8b4b4e5c4ae6528041d31a2a951dd991/proglog-0.1.9.tar.gz\n",
      "Requirement already satisfied: imageio<3.0,>=2.5 in c:\\users\\user\\anaconda3\\lib\\site-packages (from moviepy) (2.6.0)\n",
      "Collecting imageio_ffmpeg>=0.2.0 (from moviepy)\n",
      "  Downloading https://files.pythonhosted.org/packages/05/37/4fb294cd14b1fff5b3c7acadb20928bf3a44acfebc13d95d1ac4e9e32218/imageio_ffmpeg-0.4.1-py3-none-win32.whl (17.9MB)\n",
      "Requirement already satisfied: urllib3!=1.25.0,!=1.25.1,<1.26,>=1.21.1 in c:\\users\\user\\anaconda3\\lib\\site-packages (from requests<3.0,>=2.8.1->moviepy) (1.24.2)\n",
      "Requirement already satisfied: idna<2.9,>=2.5 in c:\\users\\user\\anaconda3\\lib\\site-packages (from requests<3.0,>=2.8.1->moviepy) (2.8)\n",
      "Requirement already satisfied: chardet<3.1.0,>=3.0.2 in c:\\users\\user\\anaconda3\\lib\\site-packages (from requests<3.0,>=2.8.1->moviepy) (3.0.4)\n",
      "Requirement already satisfied: certifi>=2017.4.17 in c:\\users\\user\\anaconda3\\lib\\site-packages (from requests<3.0,>=2.8.1->moviepy) (2019.9.11)\n",
      "Requirement already satisfied: pillow in c:\\users\\user\\anaconda3\\lib\\site-packages (from imageio<3.0,>=2.5->moviepy) (6.2.0)\n",
      "Building wheels for collected packages: moviepy, proglog\n",
      "  Building wheel for moviepy (setup.py): started\n",
      "  Building wheel for moviepy (setup.py): finished with status 'done'\n",
      "  Created wheel for moviepy: filename=moviepy-1.0.1-cp37-none-any.whl size=110791 sha256=7497b95a6998ddafe8d463e41e5cbe11a0d916106e5bc83870d58b9f0da8c181\n",
      "  Stored in directory: C:\\Users\\User\\AppData\\Local\\pip\\Cache\\wheels\\a3\\3c\\07\\45afe2bd5dbd3f935f445545d645f0f8c05d48340136367d45\n",
      "  Building wheel for proglog (setup.py): started\n",
      "  Building wheel for proglog (setup.py): finished with status 'done'\n",
      "  Created wheel for proglog: filename=proglog-0.1.9-cp37-none-any.whl size=6152 sha256=ee56a174b8145b53a01d405b2de4f329f0d115d33d39802d6b0275fab87645a8\n",
      "  Stored in directory: C:\\Users\\User\\AppData\\Local\\pip\\Cache\\wheels\\65\\56\\60\\1d0306a8d90b188af393c1812ddb502a8821b70917f82dcc00\n",
      "Successfully built moviepy proglog\n",
      "Installing collected packages: proglog, imageio-ffmpeg, moviepy\n",
      "Successfully installed imageio-ffmpeg-0.4.1 moviepy-1.0.1 proglog-0.1.9\n",
      "Note: you may need to restart the kernel to use updated packages.\n"
     ]
    }
   ],
   "source": [
    "pip install moviepy"
   ]
  },
  {
   "cell_type": "code",
   "execution_count": 1,
   "metadata": {},
   "outputs": [],
   "source": [
    "import moviepy"
   ]
  },
  {
   "cell_type": "markdown",
   "metadata": {},
   "source": [
    "# версия которая наверняка сможет работать"
   ]
  },
  {
   "cell_type": "code",
   "execution_count": 9,
   "metadata": {},
   "outputs": [
    {
     "name": "stdout",
     "output_type": "stream",
     "text": [
      "Moviepy - Building video check2.mp4.\n",
      "MoviePy - Writing audio in check2TEMP_MPY_wvf_snd.mp3\n"
     ]
    },
    {
     "name": "stderr",
     "output_type": "stream",
     "text": [
      "                                                                                                                       \r"
     ]
    },
    {
     "name": "stdout",
     "output_type": "stream",
     "text": [
      "MoviePy - Done.\n",
      "Moviepy - Writing video check2.mp4\n",
      "\n"
     ]
    },
    {
     "name": "stderr",
     "output_type": "stream",
     "text": [
      "                                                                                                                       \r"
     ]
    },
    {
     "name": "stdout",
     "output_type": "stream",
     "text": [
      "Moviepy - Done !\n",
      "Moviepy - video ready check2.mp4\n"
     ]
    }
   ],
   "source": [
    "from moviepy.editor import VideoFileClip, clips_array, vfx\n",
    "clip1 = VideoFileClip(\"ezgif-3-8e0079da1d54.mp4\").margin(10) # add 10px contour\n",
    "clip2 = clip1.fx(vfx.mirror_x).set_start(1).crossfadein(0).invert_colors()\n",
    "clip3 = clip1.fx(vfx.mirror_y).set_start(2).crossfadein(1)\n",
    "clip4 = clip1.fx(vfx.mirror_y).fx(vfx.mirror_x).resize(0.60).set_start(3).crossfadein(2) # downsize 60%\n",
    "final_clip = clips_array([[clip1, clip2],\n",
    "                          [clip3, clip4]])\n",
    "audioclip = AudioFileClip(\"jojo.mp3\")\n",
    "final_clip = concatenate_videoclips([final_clip]*11)\n",
    "final_clip = final_clip.set_audio(audioclip)\n",
    "final_clip.write_videofile(\"check2.mp4\")"
   ]
  },
  {
   "cell_type": "markdown",
   "metadata": {},
   "source": [
    "# не знаю сработает ли, но оно не отличается почти никак"
   ]
  },
  {
   "cell_type": "code",
   "execution_count": 10,
   "metadata": {},
   "outputs": [],
   "source": [
    "from moviepy.editor import VideoFileClip, clips_array, vfx"
   ]
  },
  {
   "cell_type": "code",
   "execution_count": 11,
   "metadata": {},
   "outputs": [],
   "source": [
    "clip1 = VideoFileClip(\"ezgif-3-8e0079da1d54.mp4\").margin(10)\n",
    "clip1 = concatenate_videoclips([clip1]*15)"
   ]
  },
  {
   "cell_type": "code",
   "execution_count": 12,
   "metadata": {},
   "outputs": [],
   "source": [
    "clip2 = clip1.fx(vfx.mirror_x).set_start(1).crossfadein(0).invert_colors()\n",
    "clip2 = concatenate_videoclips([clip2]*15)"
   ]
  },
  {
   "cell_type": "code",
   "execution_count": 13,
   "metadata": {},
   "outputs": [],
   "source": [
    "clip3 = clip1.fx(vfx.mirror_y).set_start(2).crossfadein(1)\n",
    "clip3 = concatenate_videoclips([clip3]*15)"
   ]
  },
  {
   "cell_type": "code",
   "execution_count": 14,
   "metadata": {},
   "outputs": [],
   "source": [
    "clip4 = clip1.fx(vfx.mirror_y).fx(vfx.mirror_x).resize(0.60).set_start(3).crossfadein(2)\n",
    "clip4 = concatenate_videoclips([clip4]*15)"
   ]
  },
  {
   "cell_type": "code",
   "execution_count": 15,
   "metadata": {},
   "outputs": [],
   "source": [
    "final_clip = clips_array([[clip1, clip2],\n",
    "                          [clip3, clip4]])"
   ]
  },
  {
   "cell_type": "code",
   "execution_count": 16,
   "metadata": {},
   "outputs": [],
   "source": [
    "audioclip = AudioFileClip(\"jojo.mp3\")\n",
    "final_clip = final_clip.set_audio(audioclip)"
   ]
  },
  {
   "cell_type": "code",
   "execution_count": null,
   "metadata": {},
   "outputs": [
    {
     "name": "stdout",
     "output_type": "stream",
     "text": [
      "Moviepy - Building video check2.mp4.\n",
      "MoviePy - Writing audio in check2TEMP_MPY_wvf_snd.mp3\n"
     ]
    },
    {
     "name": "stderr",
     "output_type": "stream",
     "text": [
      "                                                                                                                       \r"
     ]
    },
    {
     "name": "stdout",
     "output_type": "stream",
     "text": [
      "MoviePy - Done.\n",
      "Moviepy - Writing video check2.mp4\n",
      "\n"
     ]
    },
    {
     "name": "stderr",
     "output_type": "stream",
     "text": [
      "t:  17%|██████████▊                                                   | 5855/33750 [25:55<2:20:06,  3.32it/s, now=None]"
     ]
    }
   ],
   "source": [
    "final_clip.write_videofile(\"check2.mp4\")"
   ]
  },
  {
   "cell_type": "code",
   "execution_count": null,
   "metadata": {},
   "outputs": [],
   "source": []
  }
 ],
 "metadata": {
  "kernelspec": {
   "display_name": "Python 3",
   "language": "python",
   "name": "python3"
  },
  "language_info": {
   "codemirror_mode": {
    "name": "ipython",
    "version": 3
   },
   "file_extension": ".py",
   "mimetype": "text/x-python",
   "name": "python",
   "nbconvert_exporter": "python",
   "pygments_lexer": "ipython3",
   "version": "3.7.4"
  }
 },
 "nbformat": 4,
 "nbformat_minor": 2
}
